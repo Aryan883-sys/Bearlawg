{
 "cells": [
  {
   "cell_type": "markdown",
   "id": "e2314315-a734-41d8-8cc5-7df7ac7624b9",
   "metadata": {},
   "source": [
    "# Data Science Ecosystem"
   ]
  },
  {
   "cell_type": "markdown",
   "id": "ca79af31-fdbd-4f6c-8499-484a6d2e56b4",
   "metadata": {},
   "source": [
    "In this notebook, Data Science Tools and Ecosystem are summarized."
   ]
  },
  {
   "cell_type": "markdown",
   "id": "69ea0f6a-4e7f-4530-a271-0b30bc24579e",
   "metadata": {},
   "source": [
    "## Objectives\n",
    "- Some of the popular languages that Data Scientists use are\n",
    "- Some of the commonly used libraries used by Data Scientists include\n",
    "- Data Science Tools\n",
    "- Below are a few examples of evaluating arithmetic expressions in Python\n",
    "- Code to convert hours to minutes"
   ]
  },
  {
   "cell_type": "markdown",
   "id": "b541c5cd-d334-44c0-bb07-0d55f0fbd08b",
   "metadata": {},
   "source": [
    "\n",
    "Some of the popular languages that Data Scientists use are:"
   ]
  },
  {
   "cell_type": "markdown",
   "id": "a18b842d-afc9-4817-9cd5-f2b165ab00bc",
   "metadata": {},
   "source": [
    "1. Java\n",
    "2. Scala\n",
    "3. Python\n",
    "4. C++"
   ]
  },
  {
   "cell_type": "markdown",
   "id": "8018a775-7f23-4ac2-8861-538dd2b1a683",
   "metadata": {},
   "source": [
    "\n",
    "Some of the commonly used libraries used by Data Scientists include:\n"
   ]
  },
  {
   "cell_type": "markdown",
   "id": "5489dfd6-66ba-4011-a63f-8401cde6c979",
   "metadata": {},
   "source": [
    "1. Numpy\n",
    "2. Pandas\n",
    "3. Matplotlib\n",
    "4. Keras"
   ]
  },
  {
   "cell_type": "markdown",
   "id": "bb8ac9aa-480f-44ac-bec1-0fd1175f9006",
   "metadata": {
    "tags": []
   },
   "source": [
    " | Data Science Tools | \n",
    " |  R Studio          | \n",
    " | Jupyter Lab        | \n",
    " | Apache Zepplin     | \n"
   ]
  },
  {
   "cell_type": "markdown",
   "id": "25eceb5a-b758-4439-b2b8-7bd58934b295",
   "metadata": {},
   "source": [
    "### Below are a few examples of evaluating arithmetic expressions in Python"
   ]
  },
  {
   "cell_type": "code",
   "execution_count": 10,
   "id": "3b86ec22-b570-440a-99d3-6165f8b42441",
   "metadata": {
    "tags": []
   },
   "outputs": [
    {
     "data": {
      "text/plain": [
       "17"
      ]
     },
     "execution_count": 10,
     "metadata": {},
     "output_type": "execute_result"
    }
   ],
   "source": [
    "# This a simple arithmetic expression to mutiply then add integers.\n",
    "(3*4)+5"
   ]
  },
  {
   "cell_type": "code",
   "execution_count": 17,
   "id": "2f65b788-2229-4001-9f42-50d248d1175e",
   "metadata": {
    "tags": []
   },
   "outputs": [
    {
     "name": "stdout",
     "output_type": "stream",
     "text": [
      "3.3333333333333335\n"
     ]
    }
   ],
   "source": [
    "# This will convert 200 minutes to hours by diving by 60.\n",
    "minutes= 200\n",
    "hours= minutes/60   \n",
    "print(hours)"
   ]
  },
  {
   "cell_type": "markdown",
   "id": "5acd9dcd-61a2-46a2-93e9-5b6f8c49bd02",
   "metadata": {},
   "source": [
    "## Author\n",
    " Aryan Oza"
   ]
  },
  {
   "cell_type": "code",
   "execution_count": null,
   "id": "23887239-20ec-40cc-8705-6ecab422a918",
   "metadata": {},
   "outputs": [],
   "source": []
  }
 ],
 "metadata": {
  "kernelspec": {
   "display_name": "Python",
   "language": "python",
   "name": "conda-env-python-py"
  },
  "language_info": {
   "codemirror_mode": {
    "name": "ipython",
    "version": 3
   },
   "file_extension": ".py",
   "mimetype": "text/x-python",
   "name": "python",
   "nbconvert_exporter": "python",
   "pygments_lexer": "ipython3",
   "version": "3.7.12"
  }
 },
 "nbformat": 4,
 "nbformat_minor": 5
}
